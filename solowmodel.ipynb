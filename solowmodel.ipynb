{
  "nbformat": 4,
  "nbformat_minor": 0,
  "metadata": {
    "colab": {
      "provenance": [],
      "include_colab_link": true
    },
    "kernelspec": {
      "name": "python3",
      "display_name": "Python 3"
    },
    "language_info": {
      "name": "python"
    }
  },
  "cells": [
    {
      "cell_type": "markdown",
      "metadata": {
        "id": "view-in-github",
        "colab_type": "text"
      },
      "source": [
        "<a href=\"https://colab.research.google.com/github/beatrizrgarcia/solowmodel/blob/main/solowmodel.ipynb\" target=\"_parent\"><img src=\"https://colab.research.google.com/assets/colab-badge.svg\" alt=\"Open In Colab\"/></a>"
      ]
    },
    {
      "cell_type": "code",
      "source": [
        "!pip install seaborn\n",
        "!pip install matplotlib\n",
        "!pip install ipympl\n",
        "!pip install scipy"
      ],
      "metadata": {
        "colab": {
          "base_uri": "https://localhost:8080/"
        },
        "id": "zje3gyr0zU1M",
        "outputId": "32a191bb-66d7-411c-97e4-d638018c70e4"
      },
      "execution_count": 21,
      "outputs": [
        {
          "output_type": "stream",
          "name": "stdout",
          "text": [
            "Requirement already satisfied: seaborn in /usr/local/lib/python3.10/dist-packages (0.12.2)\n",
            "Requirement already satisfied: numpy!=1.24.0,>=1.17 in /usr/local/lib/python3.10/dist-packages (from seaborn) (1.23.5)\n",
            "Requirement already satisfied: pandas>=0.25 in /usr/local/lib/python3.10/dist-packages (from seaborn) (1.5.3)\n",
            "Requirement already satisfied: matplotlib!=3.6.1,>=3.1 in /usr/local/lib/python3.10/dist-packages (from seaborn) (3.7.1)\n",
            "Requirement already satisfied: contourpy>=1.0.1 in /usr/local/lib/python3.10/dist-packages (from matplotlib!=3.6.1,>=3.1->seaborn) (1.2.0)\n",
            "Requirement already satisfied: cycler>=0.10 in /usr/local/lib/python3.10/dist-packages (from matplotlib!=3.6.1,>=3.1->seaborn) (0.12.1)\n",
            "Requirement already satisfied: fonttools>=4.22.0 in /usr/local/lib/python3.10/dist-packages (from matplotlib!=3.6.1,>=3.1->seaborn) (4.47.0)\n",
            "Requirement already satisfied: kiwisolver>=1.0.1 in /usr/local/lib/python3.10/dist-packages (from matplotlib!=3.6.1,>=3.1->seaborn) (1.4.5)\n",
            "Requirement already satisfied: packaging>=20.0 in /usr/local/lib/python3.10/dist-packages (from matplotlib!=3.6.1,>=3.1->seaborn) (23.2)\n",
            "Requirement already satisfied: pillow>=6.2.0 in /usr/local/lib/python3.10/dist-packages (from matplotlib!=3.6.1,>=3.1->seaborn) (9.4.0)\n",
            "Requirement already satisfied: pyparsing>=2.3.1 in /usr/local/lib/python3.10/dist-packages (from matplotlib!=3.6.1,>=3.1->seaborn) (3.1.1)\n",
            "Requirement already satisfied: python-dateutil>=2.7 in /usr/local/lib/python3.10/dist-packages (from matplotlib!=3.6.1,>=3.1->seaborn) (2.8.2)\n",
            "Requirement already satisfied: pytz>=2020.1 in /usr/local/lib/python3.10/dist-packages (from pandas>=0.25->seaborn) (2023.3.post1)\n",
            "Requirement already satisfied: six>=1.5 in /usr/local/lib/python3.10/dist-packages (from python-dateutil>=2.7->matplotlib!=3.6.1,>=3.1->seaborn) (1.16.0)\n",
            "Requirement already satisfied: matplotlib in /usr/local/lib/python3.10/dist-packages (3.7.1)\n",
            "Requirement already satisfied: contourpy>=1.0.1 in /usr/local/lib/python3.10/dist-packages (from matplotlib) (1.2.0)\n",
            "Requirement already satisfied: cycler>=0.10 in /usr/local/lib/python3.10/dist-packages (from matplotlib) (0.12.1)\n",
            "Requirement already satisfied: fonttools>=4.22.0 in /usr/local/lib/python3.10/dist-packages (from matplotlib) (4.47.0)\n",
            "Requirement already satisfied: kiwisolver>=1.0.1 in /usr/local/lib/python3.10/dist-packages (from matplotlib) (1.4.5)\n",
            "Requirement already satisfied: numpy>=1.20 in /usr/local/lib/python3.10/dist-packages (from matplotlib) (1.23.5)\n",
            "Requirement already satisfied: packaging>=20.0 in /usr/local/lib/python3.10/dist-packages (from matplotlib) (23.2)\n",
            "Requirement already satisfied: pillow>=6.2.0 in /usr/local/lib/python3.10/dist-packages (from matplotlib) (9.4.0)\n",
            "Requirement already satisfied: pyparsing>=2.3.1 in /usr/local/lib/python3.10/dist-packages (from matplotlib) (3.1.1)\n",
            "Requirement already satisfied: python-dateutil>=2.7 in /usr/local/lib/python3.10/dist-packages (from matplotlib) (2.8.2)\n",
            "Requirement already satisfied: six>=1.5 in /usr/local/lib/python3.10/dist-packages (from python-dateutil>=2.7->matplotlib) (1.16.0)\n",
            "Requirement already satisfied: ipympl in /usr/local/lib/python3.10/dist-packages (0.9.3)\n",
            "Requirement already satisfied: ipython<9 in /usr/local/lib/python3.10/dist-packages (from ipympl) (7.34.0)\n",
            "Requirement already satisfied: numpy in /usr/local/lib/python3.10/dist-packages (from ipympl) (1.23.5)\n",
            "Requirement already satisfied: ipython-genutils in /usr/local/lib/python3.10/dist-packages (from ipympl) (0.2.0)\n",
            "Requirement already satisfied: pillow in /usr/local/lib/python3.10/dist-packages (from ipympl) (9.4.0)\n",
            "Requirement already satisfied: traitlets<6 in /usr/local/lib/python3.10/dist-packages (from ipympl) (5.7.1)\n",
            "Requirement already satisfied: ipywidgets<9,>=7.6.0 in /usr/local/lib/python3.10/dist-packages (from ipympl) (7.7.1)\n",
            "Requirement already satisfied: matplotlib<4,>=3.4.0 in /usr/local/lib/python3.10/dist-packages (from ipympl) (3.7.1)\n",
            "Requirement already satisfied: setuptools>=18.5 in /usr/local/lib/python3.10/dist-packages (from ipython<9->ipympl) (67.7.2)\n",
            "Requirement already satisfied: jedi>=0.16 in /usr/local/lib/python3.10/dist-packages (from ipython<9->ipympl) (0.19.1)\n",
            "Requirement already satisfied: decorator in /usr/local/lib/python3.10/dist-packages (from ipython<9->ipympl) (4.4.2)\n",
            "Requirement already satisfied: pickleshare in /usr/local/lib/python3.10/dist-packages (from ipython<9->ipympl) (0.7.5)\n",
            "Requirement already satisfied: prompt-toolkit!=3.0.0,!=3.0.1,<3.1.0,>=2.0.0 in /usr/local/lib/python3.10/dist-packages (from ipython<9->ipympl) (3.0.43)\n",
            "Requirement already satisfied: pygments in /usr/local/lib/python3.10/dist-packages (from ipython<9->ipympl) (2.16.1)\n",
            "Requirement already satisfied: backcall in /usr/local/lib/python3.10/dist-packages (from ipython<9->ipympl) (0.2.0)\n",
            "Requirement already satisfied: matplotlib-inline in /usr/local/lib/python3.10/dist-packages (from ipython<9->ipympl) (0.1.6)\n",
            "Requirement already satisfied: pexpect>4.3 in /usr/local/lib/python3.10/dist-packages (from ipython<9->ipympl) (4.9.0)\n",
            "Requirement already satisfied: ipykernel>=4.5.1 in /usr/local/lib/python3.10/dist-packages (from ipywidgets<9,>=7.6.0->ipympl) (5.5.6)\n",
            "Requirement already satisfied: widgetsnbextension~=3.6.0 in /usr/local/lib/python3.10/dist-packages (from ipywidgets<9,>=7.6.0->ipympl) (3.6.6)\n",
            "Requirement already satisfied: jupyterlab-widgets>=1.0.0 in /usr/local/lib/python3.10/dist-packages (from ipywidgets<9,>=7.6.0->ipympl) (3.0.9)\n",
            "Requirement already satisfied: contourpy>=1.0.1 in /usr/local/lib/python3.10/dist-packages (from matplotlib<4,>=3.4.0->ipympl) (1.2.0)\n",
            "Requirement already satisfied: cycler>=0.10 in /usr/local/lib/python3.10/dist-packages (from matplotlib<4,>=3.4.0->ipympl) (0.12.1)\n",
            "Requirement already satisfied: fonttools>=4.22.0 in /usr/local/lib/python3.10/dist-packages (from matplotlib<4,>=3.4.0->ipympl) (4.47.0)\n",
            "Requirement already satisfied: kiwisolver>=1.0.1 in /usr/local/lib/python3.10/dist-packages (from matplotlib<4,>=3.4.0->ipympl) (1.4.5)\n",
            "Requirement already satisfied: packaging>=20.0 in /usr/local/lib/python3.10/dist-packages (from matplotlib<4,>=3.4.0->ipympl) (23.2)\n",
            "Requirement already satisfied: pyparsing>=2.3.1 in /usr/local/lib/python3.10/dist-packages (from matplotlib<4,>=3.4.0->ipympl) (3.1.1)\n",
            "Requirement already satisfied: python-dateutil>=2.7 in /usr/local/lib/python3.10/dist-packages (from matplotlib<4,>=3.4.0->ipympl) (2.8.2)\n",
            "Requirement already satisfied: jupyter-client in /usr/local/lib/python3.10/dist-packages (from ipykernel>=4.5.1->ipywidgets<9,>=7.6.0->ipympl) (6.1.12)\n",
            "Requirement already satisfied: tornado>=4.2 in /usr/local/lib/python3.10/dist-packages (from ipykernel>=4.5.1->ipywidgets<9,>=7.6.0->ipympl) (6.3.2)\n",
            "Requirement already satisfied: parso<0.9.0,>=0.8.3 in /usr/local/lib/python3.10/dist-packages (from jedi>=0.16->ipython<9->ipympl) (0.8.3)\n",
            "Requirement already satisfied: ptyprocess>=0.5 in /usr/local/lib/python3.10/dist-packages (from pexpect>4.3->ipython<9->ipympl) (0.7.0)\n",
            "Requirement already satisfied: wcwidth in /usr/local/lib/python3.10/dist-packages (from prompt-toolkit!=3.0.0,!=3.0.1,<3.1.0,>=2.0.0->ipython<9->ipympl) (0.2.12)\n",
            "Requirement already satisfied: six>=1.5 in /usr/local/lib/python3.10/dist-packages (from python-dateutil>=2.7->matplotlib<4,>=3.4.0->ipympl) (1.16.0)\n",
            "Requirement already satisfied: notebook>=4.4.1 in /usr/local/lib/python3.10/dist-packages (from widgetsnbextension~=3.6.0->ipywidgets<9,>=7.6.0->ipympl) (6.5.5)\n",
            "Requirement already satisfied: jinja2 in /usr/local/lib/python3.10/dist-packages (from notebook>=4.4.1->widgetsnbextension~=3.6.0->ipywidgets<9,>=7.6.0->ipympl) (3.1.2)\n",
            "Requirement already satisfied: pyzmq<25,>=17 in /usr/local/lib/python3.10/dist-packages (from notebook>=4.4.1->widgetsnbextension~=3.6.0->ipywidgets<9,>=7.6.0->ipympl) (23.2.1)\n",
            "Requirement already satisfied: argon2-cffi in /usr/local/lib/python3.10/dist-packages (from notebook>=4.4.1->widgetsnbextension~=3.6.0->ipywidgets<9,>=7.6.0->ipympl) (23.1.0)\n",
            "Requirement already satisfied: jupyter-core>=4.6.1 in /usr/local/lib/python3.10/dist-packages (from notebook>=4.4.1->widgetsnbextension~=3.6.0->ipywidgets<9,>=7.6.0->ipympl) (5.7.0)\n",
            "Requirement already satisfied: nbformat in /usr/local/lib/python3.10/dist-packages (from notebook>=4.4.1->widgetsnbextension~=3.6.0->ipywidgets<9,>=7.6.0->ipympl) (5.9.2)\n",
            "Requirement already satisfied: nbconvert>=5 in /usr/local/lib/python3.10/dist-packages (from notebook>=4.4.1->widgetsnbextension~=3.6.0->ipywidgets<9,>=7.6.0->ipympl) (6.5.4)\n",
            "Requirement already satisfied: nest-asyncio>=1.5 in /usr/local/lib/python3.10/dist-packages (from notebook>=4.4.1->widgetsnbextension~=3.6.0->ipywidgets<9,>=7.6.0->ipympl) (1.5.8)\n",
            "Requirement already satisfied: Send2Trash>=1.8.0 in /usr/local/lib/python3.10/dist-packages (from notebook>=4.4.1->widgetsnbextension~=3.6.0->ipywidgets<9,>=7.6.0->ipympl) (1.8.2)\n",
            "Requirement already satisfied: terminado>=0.8.3 in /usr/local/lib/python3.10/dist-packages (from notebook>=4.4.1->widgetsnbextension~=3.6.0->ipywidgets<9,>=7.6.0->ipympl) (0.18.0)\n",
            "Requirement already satisfied: prometheus-client in /usr/local/lib/python3.10/dist-packages (from notebook>=4.4.1->widgetsnbextension~=3.6.0->ipywidgets<9,>=7.6.0->ipympl) (0.19.0)\n",
            "Requirement already satisfied: nbclassic>=0.4.7 in /usr/local/lib/python3.10/dist-packages (from notebook>=4.4.1->widgetsnbextension~=3.6.0->ipywidgets<9,>=7.6.0->ipympl) (1.0.0)\n",
            "Requirement already satisfied: platformdirs>=2.5 in /usr/local/lib/python3.10/dist-packages (from jupyter-core>=4.6.1->notebook>=4.4.1->widgetsnbextension~=3.6.0->ipywidgets<9,>=7.6.0->ipympl) (4.1.0)\n",
            "Requirement already satisfied: jupyter-server>=1.8 in /usr/local/lib/python3.10/dist-packages (from nbclassic>=0.4.7->notebook>=4.4.1->widgetsnbextension~=3.6.0->ipywidgets<9,>=7.6.0->ipympl) (1.24.0)\n",
            "Requirement already satisfied: notebook-shim>=0.2.3 in /usr/local/lib/python3.10/dist-packages (from nbclassic>=0.4.7->notebook>=4.4.1->widgetsnbextension~=3.6.0->ipywidgets<9,>=7.6.0->ipympl) (0.2.3)\n",
            "Requirement already satisfied: lxml in /usr/local/lib/python3.10/dist-packages (from nbconvert>=5->notebook>=4.4.1->widgetsnbextension~=3.6.0->ipywidgets<9,>=7.6.0->ipympl) (4.9.4)\n",
            "Requirement already satisfied: beautifulsoup4 in /usr/local/lib/python3.10/dist-packages (from nbconvert>=5->notebook>=4.4.1->widgetsnbextension~=3.6.0->ipywidgets<9,>=7.6.0->ipympl) (4.11.2)\n",
            "Requirement already satisfied: bleach in /usr/local/lib/python3.10/dist-packages (from nbconvert>=5->notebook>=4.4.1->widgetsnbextension~=3.6.0->ipywidgets<9,>=7.6.0->ipympl) (6.1.0)\n",
            "Requirement already satisfied: defusedxml in /usr/local/lib/python3.10/dist-packages (from nbconvert>=5->notebook>=4.4.1->widgetsnbextension~=3.6.0->ipywidgets<9,>=7.6.0->ipympl) (0.7.1)\n",
            "Requirement already satisfied: entrypoints>=0.2.2 in /usr/local/lib/python3.10/dist-packages (from nbconvert>=5->notebook>=4.4.1->widgetsnbextension~=3.6.0->ipywidgets<9,>=7.6.0->ipympl) (0.4)\n",
            "Requirement already satisfied: jupyterlab-pygments in /usr/local/lib/python3.10/dist-packages (from nbconvert>=5->notebook>=4.4.1->widgetsnbextension~=3.6.0->ipywidgets<9,>=7.6.0->ipympl) (0.3.0)\n",
            "Requirement already satisfied: MarkupSafe>=2.0 in /usr/local/lib/python3.10/dist-packages (from nbconvert>=5->notebook>=4.4.1->widgetsnbextension~=3.6.0->ipywidgets<9,>=7.6.0->ipympl) (2.1.3)\n",
            "Requirement already satisfied: mistune<2,>=0.8.1 in /usr/local/lib/python3.10/dist-packages (from nbconvert>=5->notebook>=4.4.1->widgetsnbextension~=3.6.0->ipywidgets<9,>=7.6.0->ipympl) (0.8.4)\n",
            "Requirement already satisfied: nbclient>=0.5.0 in /usr/local/lib/python3.10/dist-packages (from nbconvert>=5->notebook>=4.4.1->widgetsnbextension~=3.6.0->ipywidgets<9,>=7.6.0->ipympl) (0.9.0)\n",
            "Requirement already satisfied: pandocfilters>=1.4.1 in /usr/local/lib/python3.10/dist-packages (from nbconvert>=5->notebook>=4.4.1->widgetsnbextension~=3.6.0->ipywidgets<9,>=7.6.0->ipympl) (1.5.0)\n",
            "Requirement already satisfied: tinycss2 in /usr/local/lib/python3.10/dist-packages (from nbconvert>=5->notebook>=4.4.1->widgetsnbextension~=3.6.0->ipywidgets<9,>=7.6.0->ipympl) (1.2.1)\n",
            "Requirement already satisfied: fastjsonschema in /usr/local/lib/python3.10/dist-packages (from nbformat->notebook>=4.4.1->widgetsnbextension~=3.6.0->ipywidgets<9,>=7.6.0->ipympl) (2.19.1)\n",
            "Requirement already satisfied: jsonschema>=2.6 in /usr/local/lib/python3.10/dist-packages (from nbformat->notebook>=4.4.1->widgetsnbextension~=3.6.0->ipywidgets<9,>=7.6.0->ipympl) (4.19.2)\n",
            "Requirement already satisfied: argon2-cffi-bindings in /usr/local/lib/python3.10/dist-packages (from argon2-cffi->notebook>=4.4.1->widgetsnbextension~=3.6.0->ipywidgets<9,>=7.6.0->ipympl) (21.2.0)\n",
            "Requirement already satisfied: attrs>=22.2.0 in /usr/local/lib/python3.10/dist-packages (from jsonschema>=2.6->nbformat->notebook>=4.4.1->widgetsnbextension~=3.6.0->ipywidgets<9,>=7.6.0->ipympl) (23.2.0)\n",
            "Requirement already satisfied: jsonschema-specifications>=2023.03.6 in /usr/local/lib/python3.10/dist-packages (from jsonschema>=2.6->nbformat->notebook>=4.4.1->widgetsnbextension~=3.6.0->ipywidgets<9,>=7.6.0->ipympl) (2023.12.1)\n",
            "Requirement already satisfied: referencing>=0.28.4 in /usr/local/lib/python3.10/dist-packages (from jsonschema>=2.6->nbformat->notebook>=4.4.1->widgetsnbextension~=3.6.0->ipywidgets<9,>=7.6.0->ipympl) (0.32.0)\n",
            "Requirement already satisfied: rpds-py>=0.7.1 in /usr/local/lib/python3.10/dist-packages (from jsonschema>=2.6->nbformat->notebook>=4.4.1->widgetsnbextension~=3.6.0->ipywidgets<9,>=7.6.0->ipympl) (0.16.2)\n",
            "Requirement already satisfied: anyio<4,>=3.1.0 in /usr/local/lib/python3.10/dist-packages (from jupyter-server>=1.8->nbclassic>=0.4.7->notebook>=4.4.1->widgetsnbextension~=3.6.0->ipywidgets<9,>=7.6.0->ipympl) (3.7.1)\n",
            "Requirement already satisfied: websocket-client in /usr/local/lib/python3.10/dist-packages (from jupyter-server>=1.8->nbclassic>=0.4.7->notebook>=4.4.1->widgetsnbextension~=3.6.0->ipywidgets<9,>=7.6.0->ipympl) (1.7.0)\n",
            "Requirement already satisfied: cffi>=1.0.1 in /usr/local/lib/python3.10/dist-packages (from argon2-cffi-bindings->argon2-cffi->notebook>=4.4.1->widgetsnbextension~=3.6.0->ipywidgets<9,>=7.6.0->ipympl) (1.16.0)\n",
            "Requirement already satisfied: soupsieve>1.2 in /usr/local/lib/python3.10/dist-packages (from beautifulsoup4->nbconvert>=5->notebook>=4.4.1->widgetsnbextension~=3.6.0->ipywidgets<9,>=7.6.0->ipympl) (2.5)\n",
            "Requirement already satisfied: webencodings in /usr/local/lib/python3.10/dist-packages (from bleach->nbconvert>=5->notebook>=4.4.1->widgetsnbextension~=3.6.0->ipywidgets<9,>=7.6.0->ipympl) (0.5.1)\n",
            "Requirement already satisfied: idna>=2.8 in /usr/local/lib/python3.10/dist-packages (from anyio<4,>=3.1.0->jupyter-server>=1.8->nbclassic>=0.4.7->notebook>=4.4.1->widgetsnbextension~=3.6.0->ipywidgets<9,>=7.6.0->ipympl) (3.6)\n",
            "Requirement already satisfied: sniffio>=1.1 in /usr/local/lib/python3.10/dist-packages (from anyio<4,>=3.1.0->jupyter-server>=1.8->nbclassic>=0.4.7->notebook>=4.4.1->widgetsnbextension~=3.6.0->ipywidgets<9,>=7.6.0->ipympl) (1.3.0)\n",
            "Requirement already satisfied: exceptiongroup in /usr/local/lib/python3.10/dist-packages (from anyio<4,>=3.1.0->jupyter-server>=1.8->nbclassic>=0.4.7->notebook>=4.4.1->widgetsnbextension~=3.6.0->ipywidgets<9,>=7.6.0->ipympl) (1.2.0)\n",
            "Requirement already satisfied: pycparser in /usr/local/lib/python3.10/dist-packages (from cffi>=1.0.1->argon2-cffi-bindings->argon2-cffi->notebook>=4.4.1->widgetsnbextension~=3.6.0->ipywidgets<9,>=7.6.0->ipympl) (2.21)\n",
            "Requirement already satisfied: scipy in /usr/local/lib/python3.10/dist-packages (1.11.4)\n",
            "Requirement already satisfied: numpy<1.28.0,>=1.21.6 in /usr/local/lib/python3.10/dist-packages (from scipy) (1.23.5)\n"
          ]
        }
      ]
    },
    {
      "cell_type": "code",
      "execution_count": 22,
      "metadata": {
        "id": "KD_DxnHEywZN"
      },
      "outputs": [],
      "source": [
        "import pandas as pd\n",
        "import numpy as np\n",
        "import matplotlib.pyplot as plt\n",
        "from statsmodels.iolib.summary2 import summary_col\n",
        "from scipy.stats import t\n",
        "import statsmodels.api as sm\n",
        "import seaborn as sns"
      ]
    },
    {
      "cell_type": "code",
      "source": [
        "from google.colab import output\n",
        "output.enable_custom_widget_manager()"
      ],
      "metadata": {
        "id": "JHGdtKB_WRWv"
      },
      "execution_count": 23,
      "outputs": []
    },
    {
      "cell_type": "markdown",
      "source": [
        "Instalação e importação de pacotes importantes para a realização do modelo"
      ],
      "metadata": {
        "id": "6fFA2NRIz_-g"
      }
    },
    {
      "cell_type": "code",
      "source": [
        "pwt = pd.read_excel(\"pwt.xlsx\")"
      ],
      "metadata": {
        "id": "QLxzsCaZUtum"
      },
      "execution_count": 24,
      "outputs": []
    },
    {
      "cell_type": "code",
      "source": [
        "delta = 0.05\n",
        "first_year = 1960\n",
        "last_year = 2019\n",
        "\n",
        "oil_countries =  ['Bahrain', 'Gabon', 'Iran (Islamic Republic of)', 'Iraq', 'Kuwait', 'Oman', 'Saudi Arabia', 'United Arab Emirates', 'Lesotho']\n",
        "notoils = pwt.loc[~pwt[\"country\"].isin(oil_countries)]\n",
        "\n",
        "first_year_data = notoils[notoils[\"year\"] == first_year].dropna(subset=[\"rgdpo\", \"emp\"])\n",
        "countries_in_first_year = first_year_data[\"country\"].unique()\n",
        "\n",
        "pwt_solow = notoils[['year', 'country', 'rgdpo', 'pop', 'emp', 'csh_i', 'hc']]\n",
        "pwt_solow = pwt_solow[\n",
        "    (pwt_solow[\"year\"] <= last_year)\n",
        "    & (pwt_solow[\"country\"].isin(countries_in_first_year))\n",
        "]\n",
        "pwt_solow_grouped = pwt_solow.groupby('country')\n",
        "pwt_solow['n'] = pd.NA\n",
        "\n",
        "for group_name, group_data in pwt_solow_grouped:\n",
        "    group_index = group_data.index\n",
        "    n_values = (group_data['emp'] - group_data['emp'].shift(1)) / group_data['emp'].shift(1)\n",
        "    n_values = n_values.replace([np.inf, -np.inf], np.nan)\n",
        "    pwt_solow.loc[group_index, 'n'] = n_values.expanding().mean()"
      ],
      "metadata": {
        "id": "UJ7kLIzry0Bc"
      },
      "execution_count": 25,
      "outputs": []
    },
    {
      "cell_type": "markdown",
      "source": [
        "- Importação da base mais atualizada da PWT\n",
        "- Consideração de g_delta como 0.05\n",
        "- Retirada dos países petrolíferos da base da PWT (motivo: podem distorcer os resultados) e decisão de considerar dados da PWT apenas a partir de 1970\n",
        "- Criação de um novo df a partir da base da PWT sem os países petrolíferos que considera apenas as colunas: 'year', 'country', 'rgdpo' (Produto Interno Bruto real no lado da produção a preços de paridade do poder de compra encadeados - em milhões de dólares em 2019), 'pop'(população em milhões), 'emp' (nº de pessoas empregadas em milhões), 'hc'(Índice de capital humano), 'csh_i' ( parcela da formação bruta de capital físico)\n",
        "- Criação de first_year_data = notoils[notoils[\"year\"] == first_year].dropna(subset=[\"rgdpo\", \"emp\"]) que seleciona os dados do DataFrame notoils onde o ano (\"year\") é igual a first_year. Em seguida, remove as linhas que têm valores ausentes (NaN) nas colunas \"rgdpo\" e \"emp\". Os dados resultantes são armazenados em first_year_data e tem como objetivo eliminar países que não armazem dados sobre tais colunas.\n",
        "- countries_in_first_year = first_year_data[\"country\"].unique() obtém a lista única de países presentes nos dados do primeiro ano (first_year_data).\n",
        "- Retirada de valores nulos do novo df (motivo: várias funções e pacotes do Python não funcionam com valores NaN)\n",
        "- pwt_solow_grouped = pwt_solow.groupby('country'): agrupa o DataFrame pwt_solow pelo nome do país para não ocorrer distorções\n",
        "- pwt_solow['n'] = pd.NA adiciona uma nova coluna chamada 'n' ao DataFrame pwt_solow com todos os valores inicializados como ausentes (cálculo será realizado posteriormente).\n",
        "- Ao final do código é realizado um loop que itera sobre cada grupo de dados de país (group_data) no DataFrame agrupado pwt_solow_grouped. Para cada grupo, calcula a taxa de crescimento do emprego (n_values) em relação ao ano anterior, substituindo infinitos por NaN. Em seguida, atualiza a coluna 'n' no DataFrame pwt_solow com a média acumulativa dessas taxas de crescimento. A função expanding().mean() é utilizada para calcular a média acumulativa.\n"
      ],
      "metadata": {
        "id": "Rz1kE7IY0I9i"
      }
    },
    {
      "cell_type": "code",
      "source": [
        "pwt_solow['gdp_pw'] = pwt_solow['rgdpo'] / pwt_solow['emp']\n",
        "pwt_solow['log_gdp_pw'] = np.log(pwt_solow['gdp_pw'])\n",
        "pwt_solow['investment'] = pwt_solow.groupby('country')['csh_i'].transform(\"mean\")\n",
        "pwt_solow['investment'] = pwt_solow['investment'].replace([np.inf, -np.inf], np.nan)\n",
        "pwt_solow['n'] = pwt_solow['n'].replace([np.inf, -np.inf], np.nan)\n",
        "pwt_solow['restricted1'] = np.log(pwt_solow['investment']) - np.log(pwt_solow['n'] + delta)\n",
        "\n",
        "pwt_solow = pwt_solow.reset_index(drop=True)\n"
      ],
      "metadata": {
        "id": "wh3qeb_CzuNx"
      },
      "execution_count": 26,
      "outputs": []
    },
    {
      "cell_type": "markdown",
      "source": [
        "- Criação da cvariável 'gdp_pw' no df que será caracterizada pela divisão dos valores de 'rgdpo' por 'emp' para cada país. Assim, 'gdp_pw\" será o PIB por trabalhador\n",
        "- Criação da variável 'log_gdp_pw' no df que será o log de 'gdp_pw'\n",
        "- Criação da variável 'investment' que calcula, para cada país, a média dos valores da variável 'csh_i'. Sendo, portanto, a taxa de investimento/poupança de cada país. Assim, para cada país no DataFrame, calcula a média da coluna 'csh_i' usando a função groupby e a função transform(\"mean\") que é utilizada para atribuir a média de cada grupo ao correspondente país. Ademais, é necessário substituir infinitos (np.inf) e menos infinitos (-np.inf) na coluna 'investment' por valores NaN (Not a Number). Isso é feito para lidar com casos em que o cálculo da média resulta em infinito.\n",
        "- Criação da variável 'restricted1' que calcula a expressão:\n",
        " log * 'investment' - log * ('n' + delta)\n",
        "- Como a variável 'n' (taxa de crescimento populacional) já foi posteriormente definida, é necessário substituir infinitos (np.inf) e menos infinitos (-np.inf) na coluna 'n' por valores NaN para lidar com casos em que o cálculo da taxa de crescimento ('n') resulta em infinito.\n",
        "\n"
      ],
      "metadata": {
        "id": "QIoYS6Xd3Mm0"
      }
    },
    {
      "cell_type": "code",
      "source": [
        "def implied_alpha(reg):\n",
        "    alpha = reg.params[1] / (1 + reg.params[1])\n",
        "    x2 = 0\n",
        "\n",
        "    se = np.sqrt(reg.cov_params().iloc[1, 1])\n",
        "\n",
        "    t_stat = alpha / se\n",
        "\n",
        "    p_value = 2 * (1 - t.cdf(np.abs(t_stat), df=reg.df_resid))\n",
        "\n",
        "    stars = ''\n",
        "    if p_value < 0.01:\n",
        "        stars = '***'\n",
        "    elif p_value < 0.05:\n",
        "        stars = '**'\n",
        "    elif p_value < 0.1:\n",
        "        stars = '*'\n",
        "\n",
        "    return alpha, p_value, stars"
      ],
      "metadata": {
        "id": "1y5WoLeaG9Ro"
      },
      "execution_count": 27,
      "outputs": []
    },
    {
      "cell_type": "markdown",
      "source": [
        "Cálculo do Implied_Alpha (única parte que está dando valor discrepante - tentar refazer)"
      ],
      "metadata": {
        "id": "fGcNgejxHPYj"
      }
    },
    {
      "cell_type": "code",
      "source": [
        "sns.set(style='whitegrid')\n",
        "plt.figure(figsize=(8, 6))\n",
        "\n",
        "x_data = 0.5 * np.log(pwt_solow['investment']) - 0.5 * np.log(pwt_solow['n'] + delta)\n",
        "y_data = pwt_solow[pwt_solow[\"year\"] == last_year]['log_gdp_pw']\n",
        "\n",
        "pwt_converg = pd.DataFrame({'x': x_data, 'y': y_data})\n",
        "\n",
        "sns.scatterplot(x='x', y='y', data=pwt_converg)\n",
        "sns.regplot(x='x', y='y', data=pwt_converg, ci=None, line_kws={\"color\": \"red\"})\n",
        "\n",
        "plt.title('PIB per capita, taxas de poupança e diluição do capital')\n",
        "plt.xlabel('1/2 log(s) - 1/2 log(n_mean+g+δ)')\n",
        "plt.ylabel('log(y)')\n",
        "\n",
        "plt.show()"
      ],
      "metadata": {
        "colab": {
          "base_uri": "https://localhost:8080/",
          "height": 573
        },
        "id": "FJx2qxGBzGsD",
        "outputId": "89077bdd-8e22-4e5d-e50c-1088e2b54b30"
      },
      "execution_count": 28,
      "outputs": [
        {
          "output_type": "display_data",
          "data": {
            "text/plain": [
              "<Figure size 800x600 with 1 Axes>"
            ],
            "image/png": "[encoded data removed]"
          },
          "metadata": {}
        }
      ]
    },
    {
      "cell_type": "markdown",
      "source": [
        "- Criação do gráfico sendo:\n",
        "eixo x: 0.5 * log (investment) - 0.5 * log (n + delta)\n",
        "eixo y: log_gdp_pw\n"
      ],
      "metadata": {
        "id": "PCML3cW-8aRM"
      }
    },
    {
      "cell_type": "code",
      "source": [
        "pwt_solow19 = pwt_solow[pwt_solow['year'] == last_year]\n",
        "\n",
        "modelo = 'log_gdp_pw ~ np.log(investment) + np.log(n + delta)'\n",
        "OECD_countries = ['Australia', 'Austria', 'Belgium', 'Canada', 'Chile', 'Czech Republic', 'Denmark', 'Estonia', 'Finland', 'France', 'Germany', 'Greece', 'Hungary', 'Iceland', 'Ireland', 'Israel', 'Italy', 'Japan', 'Republic of Korea', 'Latvia', 'Lithuania', 'Luxembourg', 'Mexico', 'Netherlands', 'New Zealand', 'Norway', 'Poland', 'Portugal', 'Slovakia', 'Slovenia', 'Spain', 'Sweden', 'Switzerland', 'Turkey', 'United Kingdom', 'United States']\n",
        "OECD = pwt_solow19.loc[pwt[\"country\"].isin(OECD_countries)]\n",
        "\n",
        "reg1_1 = sm.OLS.from_formula(modelo, data=pwt_solow19).fit()\n",
        "reg1_2 = sm.OLS.from_formula(modelo, data=pwt_solow19[pwt_solow19['pop'] > 1]).fit()\n",
        "reg1_3 = sm.OLS.from_formula(modelo, data=pwt_solow19[pwt_solow19['country'].isin(OECD_countries)]).fit()\n",
        "\n",
        "summary_table = pd.DataFrame()\n",
        "summary_table[''] = ['ln(s)', 'ln(n+g+δ)', 'Constant', 'Observations', 'Adjusted R2']\n",
        "summary_table.set_index('', inplace=True)\n",
        "\n",
        "summary_table['Non-oil'] = [f'{reg1_1.params[\"np.log(investment)\"]:.3f}***', f'{reg1_1.params[\"np.log(n + delta)\"]:.3f}***', f'{reg1_1.params[\"Intercept\"]:.3f}', f'{int(reg1_1.nobs)}', f'{reg1_1.rsquared_adj:.3f}']\n",
        "summary_table['Intermediate'] = [f'{reg1_2.params[\"np.log(investment)\"]:.3f}***', f'{reg1_2.params[\"np.log(n + delta)\"]:.3f}***', f'{reg1_2.params[\"Intercept\"]:.3f}', f'{int(reg1_2.nobs)}', f'{reg1_2.rsquared_adj:.3f}']\n",
        "summary_table['OECD'] = [f'{reg1_3.params[\"np.log(investment)\"]:.3f}**', f'{reg1_3.params[\"np.log(n + delta)\"]:.3f}', f'{reg1_3.params[\"Intercept\"]:.3f}***', f'{int(reg1_3.nobs)}', f'{reg1_3.rsquared_adj:.3f}']\n",
        "\n",
        "summary_table.loc['ln(s)'] = summary_table.loc['ln(s)'] + f'  ({reg1_1.bse[\"np.log(investment)\"]:.3f})'\n",
        "summary_table.loc['ln(n+g+δ)'] = summary_table.loc['ln(n+g+δ)'] + f'  ({reg1_1.bse[\"np.log(n + delta)\"]:.3f})'\n",
        "summary_table.loc['Constant'] = summary_table.loc['Constant'] + f'  ({reg1_1.bse[\"Intercept\"]:.3f})'\n",
        "\n",
        "print (summary_table)"
      ],
      "metadata": {
        "id": "QQpxq51h87eW",
        "colab": {
          "base_uri": "https://localhost:8080/"
        },
        "outputId": "5d9265c3-07d8-4030-8a0f-138fe7a84b11"
      },
      "execution_count": 29,
      "outputs": [
        {
          "output_type": "stream",
          "name": "stdout",
          "text": [
            "                         Non-oil        Intermediate                OECD\n",
            "                                                                        \n",
            "ln(s)          1.209***  (0.241)   1.189***  (0.241)    0.739**  (0.241)\n",
            "ln(n+g+δ)     -3.655***  (0.708)  -3.702***  (0.708)     -0.667  (0.708)\n",
            "Constant          2.533  (2.045)      2.374  (2.045)  10.561***  (2.045)\n",
            "Observations                  89                  84                  28\n",
            "Adjusted R2                0.457               0.440               0.193\n"
          ]
        }
      ]
    },
    {
      "cell_type": "markdown",
      "source": [
        "- Em primeiro lugar, é realizado uma variável nomeada 'modelo' que será a formulá utilizada para a regressão linear múltipla (OLS) tendo a variável log_gdp_pw como variável dependente e [log (investment)] e [log (n+ delta)] como variavéis independentes.\n",
        "- Definição dos países da OCDE e criação de uma variável nomeada 'OCDE' que seleciona, diretamente, da variável pwt_solow os países pertencentes ao grupo\n",
        "- Uso da biblioteca Statsmodels para criação de um modelo de regressão linear com base em uma fórmula especificada em 'modelo' e usando o DataFrame pwt_solow19 (base da pwt_solow que contenha apenas os dados de 2019) como os dados de entrada para o modelo - países oils são excluídos.\n",
        "- Uso da biblioteca Statsmodels para criação de um modelo de regressão linear com base em uma fórmula especificada em 'modelo' e usando o DataFrame pwt_solow19 (base da pwt_solow que contenha apenas os dados de 2019) como os dados de entrada para o modelo - países oils são excluídos. Nesse caso, há uma condição: apenas os países que contenham mais de 1 de população entrarão na regressão\n",
        "- Uso da biblioteca Statsmodels para criação de um modelo de regressão linear com base em uma fórmula especificada em 'modelo' e usando o DataFrame pwt_solow19 (base da pwt_solow que contenha apenas os dados de 2019) como os dados de entrada para o modelo - países oils são excluídos. Nesse caso, há uma condição: apenas os países membros da OCDE entrarão na regressão\n",
        "- Criação de três colunas em uma tabela chamada 'summary_table', onde cada coluna contém informações resumidas de três modelos de regressão - sendo a primeira coluna \"Non-Oils\" contendo informações da primeira regressão, a segunda coluna \"Intermediate\" contendo informações da segunda regressão e \"OCDE\" contendo informações da terceira regressão.\n",
        "- As informações contidadas na tabela, para cada coluna e calculada para cada regressão, serão: o coeficiente estimado para a variável \"np.log(investment)\" com formatação em 3 casas decimais e com três asteriscos no final (os asteriscos podem indicar que o coeficiente é estatisticamente significativo), segundo valor é o coeficiente estimado para a variável \"np.log(n + delta)\" no modelo, também com formatação em 3 casas decimais e três asteriscos, o terceiro valor é o coeficiente estimado para a constante (Intercept) no modelo com formatação em 3 casas decimais, o quarto valor é o número de observações no modelo, convertido em inteiro com int e o quinto valor é o valor do coeficiente de determinação ajustado (R² ajustado) para o modelo com formatação em 3 casas decimais.\n"
      ],
      "metadata": {
        "id": "rF2BQOIdIC5C"
      }
    },
    {
      "cell_type": "code",
      "source": [
        "model2 = 'log_gdp_pw ~ restricted1'\n",
        "\n",
        "#FALTANDO IMPLIED ALPHA\n",
        "\n",
        "reg2_1 = sm.OLS.from_formula(model2, data=pwt_solow19).fit()\n",
        "reg2_2 = sm.OLS.from_formula(model2, data=pwt_solow19[pwt_solow19['pop'] > 1]).fit()\n",
        "reg2_3 = sm.OLS.from_formula(model2, data=pwt_solow19[pwt_solow19['country'].isin(OECD_countries)]).fit()\n",
        "\n",
        "summary_table2 = pd.DataFrame(index=[''] * 6)\n",
        "summary_table2[''] = ['ln(s) - ln(n+g+δ)', 'Constant', 'Implied Alpha', 'Observations', 'Adjusted R2', '']  # Adicionando um espaço em branco para corresponder ao índice extra na tabela\n",
        "summary_table2.set_index('', inplace=True)\n",
        "\n",
        "for reg, name in zip([reg2_1, reg2_2, reg2_3], ['Non-oil', 'Intermediate', 'OECD']):\n",
        "    alpha, p_value, stars = implied_alpha(reg)\n",
        "\n",
        "\n",
        "\n",
        "    summary_table2[name] = [\n",
        "    f'{reg.params[\"restricted1\"]:.3f}{stars}',\n",
        "    f'{reg.params[\"Intercept\"]:.3f}***',\n",
        "    f'{alpha:.3f}{stars}',\n",
        "    f'{int(reg.nobs)}',\n",
        "    f'{reg.rsquared_adj:.3f}',\n",
        "    ''  # Placeholder for Adjusted R2\n",
        "]\n",
        "\n",
        "\n",
        "    summary_table2.loc['ln(s) - ln(n+g+δ)', name] += f'  ({reg.bse[\"restricted1\"]:.3f})'\n",
        "    summary_table2.loc['Constant', name] += f'  ({reg.bse[\"Intercept\"]:.3f})'\n",
        "\n",
        "print(summary_table2)"
      ],
      "metadata": {
        "colab": {
          "base_uri": "https://localhost:8080/"
        },
        "id": "1hpKhNcTAsLK",
        "outputId": "d2eff75b-959b-4c1d-ed5d-c87e8435f8d1"
      },
      "execution_count": 32,
      "outputs": [
        {
          "output_type": "stream",
          "name": "stdout",
          "text": [
            "                             Non-oil       Intermediate                OECD\n",
            "                                                                           \n",
            "ln(s) - ln(n+g+δ)  1.622***  (0.207)  1.644***  (0.224)     0.711*  (0.240)\n",
            "Constant           8.609***  (0.241)  8.585***  (0.254)  10.401***  (0.357)\n",
            "Implied Alpha               0.619***           0.622***              0.416*\n",
            "Observations                      89                 84                  28\n",
            "Adjusted R2                    0.407              0.389               0.224\n",
            "                                                                           \n"
          ]
        }
      ]
    },
    {
      "cell_type": "markdown",
      "source": [
        "- Criação do model2 que será 'log_gdp_pw ~ restricted1'.\n",
        "As três regressões lineares são ajustados usando o método de Mínimos Quadrados Ordinários (OLS), sendo que:\n",
        "reg2_1 é a regressão para todo o conjunto de dados - PWT menos países petroleiros\n",
        "reg2_2 é a regressão para o subconjunto onde 'pop' é maior que 1.\n",
        "reg2_3 é a regressão para os países na lista especificada (OECD_countries)\n",
        "- Uma tabela vazia (summary_table2) é criada para armazenar os resultados das regressões. Os rótulos das linhas são definidos como ['ln(s) - ln(n+g+δ)', 'Constant', 'Implied_Alpha', 'Observações', 'R2 Ajustado']- não consegui calcular o Implied_Alpha porque não entendi como ele foi criado no código em R\n",
        "- Os coeficientes estimados, estatísticas e outras informações das regressões são inseridos na tabela summary_table2.\n",
        "- Implied_Alpha com valores discrepantes\n",
        "-A tabela summary_table2 é impressa na tela, fornecendo uma visão resumida dos resultados das regressões.\n",
        "\n"
      ],
      "metadata": {
        "id": "bdiw1Z3GtOiF"
      }
    },
    {
      "cell_type": "code",
      "source": [
        "#model 3\n",
        "model3 = 'log_gdp_pw ~ np.log(investment) + np.log(hc) + np.log(n+delta)'\n",
        "\n",
        "reg3_1 = sm.OLS.from_formula(model3, data=pwt_solow19).fit()\n",
        "reg3_2 = sm.OLS.from_formula(model3, data=pwt_solow19[pwt_solow19['pop'] > 1]).fit()\n",
        "reg3_3 = sm.OLS.from_formula(model3, data=pwt_solow19[pwt_solow19['country'].isin(OECD_countries)]).fit()\n",
        "\n",
        "summary_table3 = pd.DataFrame()\n",
        "summary_table3[''] = ['ln(sk)', 'ln(sh)', 'ln(n+g+δ)', 'Constant', 'Observations', 'Adjusted R2']\n",
        "summary_table3.set_index('', inplace=True)\n",
        "summary_table3['Non-oil'] = [f'{reg3_1.params[\"np.log(investment)\"]:.3f}***', f'{reg3_1.params[\"np.log(hc)\"]:.3f}***', f'{reg3_1.params[\"np.log(n + delta)\"]:.3f}***', f'{reg3_1.params[\"Intercept\"]:.3f}***', f'{int(reg3_1.nobs)}', f'{reg3_1.rsquared_adj:.3f}']\n",
        "summary_table3['Intermediate'] = [f'{reg3_2.params[\"np.log(investment)\"]:.3f}***', f'{reg3_2.params[\"np.log(hc)\"]:.3f}***', f'{reg3_2.params[\"np.log(n + delta)\"]:.3f}***', f'{reg3_2.params[\"Intercept\"]:.3f}***', f'{int(reg3_2.nobs)}', f'{reg3_2.rsquared_adj:.3f}']\n",
        "\n",
        "summary_table3['OECD'] = [f'{reg3_3.params[\"np.log(investment)\"]:.3f}***', f'{reg3_3.params[\"np.log(hc)\"]:.3f}***', f'{reg3_3.params[\"np.log(n + delta)\"]:.3f}***', f'{reg3_3.params[\"Intercept\"]:.3f}***', f'{int(reg3_3.nobs)}', f'{reg3_3.rsquared_adj:.3f}']\n",
        "\n",
        "summary_table3.loc['ln(sk)'] = summary_table3.loc['ln(sk)'] + f'  ({reg3_1.bse[\"np.log(investment)\"]:.3f})'\n",
        "summary_table3.loc['ln(sh)'] = summary_table3.loc['ln(sh)'] + f'  ({reg3_1.bse[\"np.log(hc)\"]:.3f})'\n",
        "summary_table3.loc['ln(n+g+δ)'] = summary_table3.loc['ln(n+g+δ)'] + f'  ({reg3_1.bse[\"np.log(n + delta)\"]:.3f})'\n",
        "summary_table3.loc['Constant'] = summary_table3.loc['Constant'] + f'  ({reg3_1.bse[\"Intercept\"]:.3f})'\n",
        "\n",
        "print(summary_table3)"
      ],
      "metadata": {
        "id": "9t0XrTtQNLcC",
        "colab": {
          "base_uri": "https://localhost:8080/"
        },
        "outputId": "bea4b467-dc48-43da-8658-77bc11a9745a"
      },
      "execution_count": 33,
      "outputs": [
        {
          "output_type": "stream",
          "name": "stdout",
          "text": [
            "                         Non-oil        Intermediate                OECD\n",
            "                                                                        \n",
            "ln(sk)         0.281***  (0.226)   0.189***  (0.226)   0.455***  (0.226)\n",
            "ln(sh)         2.530***  (0.344)   2.560***  (0.344)   0.801***  (0.344)\n",
            "ln(n+g+δ)     -2.032***  (0.594)  -2.109***  (0.594)  -0.800***  (0.594)\n",
            "Constant       2.922***  (1.600)   2.533***  (1.600)   8.846***  (1.600)\n",
            "Observations                  88                  83                  28\n",
            "Adjusted R2                0.661               0.653               0.237\n"
          ]
        }
      ]
    },
    {
      "cell_type": "markdown",
      "source": [],
      "metadata": {
        "id": "zbyju10gAPhG"
      }
    },
    {
      "cell_type": "markdown",
      "source": [
        "- Criação do model3 que será  'log_gdp_pw ~ np.log(investment) + np.log(hc) + np.log(n+delta)'.\n",
        "As três regressões lineares são ajustados usando o método de Mínimos Quadrados Ordinários (OLS), sendo que:\n",
        "reg3_1 é a regressão para todo o conjunto de dados - PWT menos países petroleiros\n",
        "reg3_2 é a regressão para o subconjunto onde 'pop' é maior que 1.\n",
        "reg3_3 é a regressão para os países na lista especificada (OECD_countries)\n",
        "- Uma tabela vazia (summary_table3) é criada para armazenar os resultados das regressões. Os rótulos das linhas são definidos como ['ln(sk), ln(sh), 'ln(n+g+δ)' 'Constant','Observações', 'R2 Ajustado']\n",
        "- Os coeficientes estimados, estatísticas e outras informações das regressões são inseridos na tabela summary_table3.\n",
        "-A tabela summary_table3 é impressa na tela, fornecendo uma visão resumida dos resultados das regressões.\n",
        "\n"
      ],
      "metadata": {
        "id": "LNoWnQjRAQ_q"
      }
    },
    {
      "cell_type": "code",
      "source": [
        "pwt1 = pd.read_excel(\"pwt.xlsx\")\n",
        "delta = 0.05\n",
        "first_year = 1960\n",
        "last_year = 2019\n",
        "\n",
        "oil_countries = ['Bahrain', 'Gabon', 'Iran (Islamic Republic of)', 'Iraq', 'Kuwait',\n",
        "                 'Oman', 'Saudi Arabia', 'United Arab Emirates', 'Lesotho']\n",
        "\n",
        "notoils = pwt1.loc[~pwt1[\"country\"].isin(oil_countries)]\n",
        "\n",
        "first_year_data = notoils[notoils[\"year\"] ==\n",
        "                          first_year].dropna(subset=[\"rgdpo\", \"emp\"])\n",
        "countries_in_first_year = first_year_data[\"country\"].unique()\n",
        "\n",
        "pwt_converg = notoils[['year', 'country',\n",
        "                       'rgdpo', 'pop', 'emp', 'csh_i', 'hc']]\n",
        "pwt_converg = pwt_converg[\n",
        "    (pwt_converg[\"year\"] <= last_year)\n",
        "    & (pwt_converg[\"country\"].isin(countries_in_first_year))\n",
        "]\n",
        "pwt_converg_grouped = pwt_converg.groupby('country')\n",
        "\n",
        "for group_name, group_data in pwt_converg_grouped:\n",
        "    group_index = group_data.index\n",
        "    n_values = (group_data['emp'].shift(-1) - group_data['emp']\n",
        "                ) / group_data['emp']\n",
        "\n",
        "\n",
        "    pwt_converg.loc[group_index, 'n'] = n_values.mean(skipna=True)\n",
        "\n",
        "pwt_converg['gdp_pw'] = pwt_converg['rgdpo'] / pwt_converg['emp']\n",
        "pwt_converg['log_gdp_pw'] = np.log(pwt_converg['gdp_pw'])\n",
        "pwt_converg['n'] = pwt_converg['n'].replace([np.inf, -np.inf], np.nan)\n",
        "pwt_converg['delta_lgdp'] = pwt_converg['log_gdp_pw'].shift(\n",
        "    -(last_year-first_year)) - pwt_converg['log_gdp_pw']\n",
        "\n",
        "pwt_converg = pwt_converg.reset_index(drop=True)\n",
        "pwt_converg = pwt_converg[pwt_converg['year'] == 1960]\n",
        "pwt_converg = pwt_converg.sort_values(by=['year', 'country'])\n"
      ],
      "metadata": {
        "id": "vi1pMvjmY85G"
      },
      "execution_count": 34,
      "outputs": []
    },
    {
      "cell_type": "markdown",
      "source": [
        "Criação do Dataframe pwt_converg para realizar as regressões relativas a Convergência. Assim, o DF pwt_converg é definido e tem as variáveis calculadas de maneira semelhante a pwt_solow calculada anteriormente.\n",
        "Mudanças:\n",
        "- cálculo e inclusão da variável delta_lgpd que tem como objetivo representar a variação do ln do produto por trabalhador, assim é calculada utilizando .shift() para deslocar os valores da coluna 'log_gdp_pw' para cima (para linhas anteriores) pelo número de períodos especificado, que é calculado como (last_year - first_year). Assim, cria-se uma versão defasada (shifted) da coluna 'log_gdp_pw' no DataFrame e é subtraído o valor defasado do 'log_gdp_pw' do valor original, resultando na variação ao longo do período especificado.\n",
        "- A pwt_converg considerará apenas dados referentes ao ano de 1960.\n"
      ],
      "metadata": {
        "id": "YQyzSl1XAsHM"
      }
    },
    {
      "cell_type": "code",
      "source": [
        "sns.set(style=\"whitegrid\")\n",
        "plt.figure(figsize=(10, 6))\n",
        "sns.scatterplot(x='gdp_pw', y='delta_lgdp', data=pwt_converg)\n",
        "sns.regplot(x='gdp_pw', y='delta_lgdp', data=pwt_converg, ci=None, line_kws={\"color\": \"red\"})\n",
        "\n",
        "plt.xlabel(\"ln(y[1960])\")\n",
        "plt.ylabel(\"ln(y[2019]) - ln(y[1960])\")\n",
        "plt.show()\n"
      ],
      "metadata": {
        "colab": {
          "base_uri": "https://localhost:8080/",
          "height": 550
        },
        "id": "G56lOizGZHS0",
        "outputId": "5cafc25f-f51f-418d-c122-26cc8b00592c"
      },
      "execution_count": 35,
      "outputs": [
        {
          "output_type": "display_data",
          "data": {
            "text/plain": [
              "<Figure size 1000x600 with 1 Axes>"
            ],
            "image/png": "[encoded data removed]"
          },
          "metadata": {}
        }
      ]
    },
    {
      "cell_type": "markdown",
      "source": [
        "Criação do gráfico entre a variação do ln da renda por trabalhador entre 1960 e 2019 (no eixo y) e o nível inicial (1960) da renda por trabalhador (no eixo x)."
      ],
      "metadata": {
        "id": "fREONFfQCDNc"
      }
    },
    {
      "cell_type": "code",
      "source": [
        "model_converg = 'delta_lgdp ~ log_gdp_pw'\n",
        "OECD_countries = ['Australia', 'Austria', 'Belgium', 'Canada', 'Chile', 'Czech Republic', 'Denmark', 'Estonia', 'Finland', 'France', 'Germany', 'Greece', 'Hungary', 'Iceland', 'Ireland', 'Israel', 'Italy', 'Japan', 'Republic of Korea', 'Latvia', 'Lithuania', 'Luxembourg', 'Mexico', 'Netherlands', 'New Zealand', 'Norway', 'Poland', 'Portugal', 'Slovakia', 'Slovenia', 'Spain', 'Sweden', 'Switzerland', 'Turkey', 'United Kingdom', 'United States']\n",
        "OECD = pwt_converg[pwt_converg['country'].isin(OECD_countries)].copy()\n",
        "\n",
        "reg1_5 = sm.OLS.from_formula(model_converg, data=pwt_converg).fit()\n",
        "reg2_5 = sm.OLS.from_formula(model_converg, data=pwt_converg[pwt_converg['pop'] > 1]).fit()\n",
        "reg3_5 = sm.OLS.from_formula(model_converg, data=OECD).fit()\n",
        "\n",
        "summary_table2 = pd.DataFrame()\n",
        "summary_table2[''] = ['ln(Y)', 'Constant', 'Observations', 'Adjusted R2']\n",
        "summary_table2.set_index('', inplace=True)\n",
        "\n",
        "\n",
        "summary_table2['Non-oil'] = [f'{reg1_5.params[\"log_gdp_pw\"]:.3f}***', f'{reg1_5.params[\"Intercept\"]:.3f}***', f'{int(reg1_5.nobs)}', f'{reg1_5.rsquared_adj:.3f}']\n",
        "summary_table2['Intermediate'] = [f'{reg2_5.params[\"log_gdp_pw\"]:.3f}***', f'{reg2_5.params[\"Intercept\"]:.3f}***', f'{int(reg2_5.nobs)}', f'{reg2_5.rsquared_adj:.3f}']\n",
        "summary_table2['OECD'] = [f'{reg3_5.params[\"log_gdp_pw\"]:.3f}**', f'{reg3_5.params[\"Intercept\"]:.3f}***', f'{int(reg3_5.nobs)}', f'{reg3_5.rsquared_adj:.3f}']\n",
        "\n",
        "summary_table2.loc['ln(Y)'] = summary_table2.loc['ln(Y)'] + f'  ({reg1_5.bse[\"log_gdp_pw\"]:.3f})'\n",
        "summary_table2.loc['Constant'] = summary_table2.loc['Constant'] + f'  ({reg1_5.bse[\"Intercept\"]:.3f})'\n",
        "\n",
        "print(summary_table2)\n"
      ],
      "metadata": {
        "colab": {
          "base_uri": "https://localhost:8080/"
        },
        "id": "S9xfVciRZLFq",
        "outputId": "c6533d10-b833-494a-b85d-e1772c255edb"
      },
      "execution_count": 36,
      "outputs": [
        {
          "output_type": "stream",
          "name": "stdout",
          "text": [
            "                         Non-oil        Intermediate               OECD\n",
            "                                                                       \n",
            "ln(Y)         -0.235***  (0.103)  -0.156***  (0.103)  -0.796**  (0.103)\n",
            "Constant       3.308***  (0.955)   2.548***  (0.955)  9.397***  (0.955)\n",
            "Observations                  89                  79                 28\n",
            "Adjusted R2                0.045               0.011              0.660\n"
          ]
        }
      ]
    },
    {
      "cell_type": "markdown",
      "source": [
        "- Criação do model_converg que será 'delta_lgdp ~ log_gdp_pw''.\n",
        "As três regressões lineares são ajustados usando o método de Mínimos Quadrados Ordinários (OLS), sendo que:\n",
        "reg1_5 é a regressão para todo o conjunto de dados - PWT menos países petroleiros\n",
        "reg2_5 é a regressão para o subconjunto onde 'pop' é maior que 1.\n",
        "reg3_5 é a regressão para os países na lista especificada (OECD_countries)\n",
        "- Uma tabela vazia (summary_table3) é criada para armazenar os resultados das regressões. Os rótulos das linhas são definidos como ['ln(Y), 'Constant','Observações', 'R2 Ajustado']\n",
        "- Os coeficientes estimados, estatísticas e outras informações das regressões são inseridos na tabela summary_table2.\n",
        "-A tabela summary_table2 é impressa na tela, fornecendo uma visão resumida dos resultados das regressões."
      ],
      "metadata": {
        "id": "PlLflDj7CUp6"
      }
    },
    {
      "cell_type": "code",
      "source": [
        "model3 = 'delta_lgdp ~ log_gdp_pw + np.log(csh_i) + np.log(n+delta)'\n",
        "\n",
        "reg3_1 = sm.OLS.from_formula(model3, data=pwt_converg).fit()\n",
        "reg3_2 = sm.OLS.from_formula(model3, data=pwt_converg[pwt_converg['pop'] > 1]).fit()\n",
        "reg3_3 = sm.OLS.from_formula(model3, data=OECD).fit()\n",
        "\n",
        "summary_table3 = pd.DataFrame()\n",
        "summary_table3[''] = ['ln(Y)', 'ln(sk)', 'ln(n+g+δ)', 'Constant', 'Observations', 'Adjusted R2']\n",
        "summary_table3.set_index('', inplace=True)\n",
        "\n",
        "summary_table3['Non-oil'] = [f'{reg3_1.params[\"log_gdp_pw\"]:.3f}***', f'{reg3_1.params[\"np.log(csh_i)\"]:.3f}***', f'{reg3_1.params[\"np.log(n + delta)\"]:.3f}***', f'{reg3_1.params[\"Intercept\"]:.3f}***', f'{int(reg3_1.nobs)}', f'{reg3_1.rsquared_adj:.3f}']\n",
        "summary_table3['Intermediate'] = [f'{reg3_2.params[\"log_gdp_pw\"]:.3f}***', f'{reg3_2.params[\"np.log(csh_i)\"]:.3f}***', f'{reg3_2.params[\"np.log(n + delta)\"]:.3f}***', f'{reg3_2.params[\"Intercept\"]:.3f}***', f'{int(reg3_2.nobs)}', f'{reg3_2.rsquared_adj:.3f}']\n",
        "summary_table3['OECD'] = [f'{reg3_3.params[\"log_gdp_pw\"]:.3f}***', f'{reg3_3.params[\"np.log(csh_i)\"]:.3f}***', f'{reg3_3.params[\"np.log(n + delta)\"]:.3f}***', f'{reg3_3.params[\"Intercept\"]:.3f}***', f'{int(reg3_3.nobs)}', f'{reg3_3.rsquared_adj:.3f}']\n",
        "\n",
        "summary_table3.loc['ln(Y)'] = summary_table3.loc['ln(Y)'] + f'  ({reg3_1.bse[\"log_gdp_pw\"]:.3f})'\n",
        "summary_table3.loc['ln(sk)'] = summary_table3.loc['ln(sk)'] + f'  ({reg3_1.bse[\"np.log(csh_i)\"]:.3f})'\n",
        "summary_table3.loc['ln(n+g+δ)'] = summary_table3.loc['ln(n+g+δ)'] + f'  ({reg3_1.bse[\"np.log(n + delta)\"]:.3f})'\n",
        "summary_table3.loc['Constant'] = summary_table3.loc['Constant'] + f'  ({reg3_1.bse[\"Intercept\"]:.3f})'\n",
        "\n",
        "print(summary_table3)\n"
      ],
      "metadata": {
        "colab": {
          "base_uri": "https://localhost:8080/"
        },
        "id": "WB1HCndZZOQp",
        "outputId": "e570986f-ca6c-43c8-9d41-389684af7592"
      },
      "execution_count": 37,
      "outputs": [
        {
          "output_type": "stream",
          "name": "stdout",
          "text": [
            "                         Non-oil        Intermediate                OECD\n",
            "                                                                        \n",
            "ln(Y)         -0.494***  (0.111)  -0.400***  (0.111)  -0.754***  (0.111)\n",
            "ln(sk)         0.219***  (0.131)   0.082***  (0.131)  -0.059***  (0.131)\n",
            "ln(n+g+δ)     -3.108***  (0.691)  -3.531***  (0.691)  -1.025***  (0.691)\n",
            "Constant      -2.195***  (1.980)  -4.480***  (1.980)   6.041***  (1.980)\n",
            "Observations                  89                  79                  28\n",
            "Adjusted R2                0.251               0.239               0.689\n"
          ]
        }
      ]
    },
    {
      "cell_type": "markdown",
      "source": [
        "- Criação do model3 que será  'delta_lgdp ~ log_gdp_pw + np.log(csh_i) + np.log(n+delta)'.\n",
        "As três regressões lineares são ajustados usando o método de Mínimos Quadrados Ordinários (OLS), sendo que:\n",
        "reg3_1 é a regressão para todo o conjunto de dados - PWT menos países petroleiros\n",
        "reg3_2 é a regressão para o subconjunto onde 'pop' é maior que 1.\n",
        "reg3_3 é a regressão para os países na lista especificada (OECD_countries)\n",
        "- Uma tabela vazia (summary_table3) é criada para armazenar os resultados das regressões. Os rótulos das linhas são definidos como ['ln (Y)', ln(sk), 'ln(n+g+δ)' 'Constant','Observações', 'R2 Ajustado']\n",
        "- Os coeficientes estimados, estatísticas e outras informações das regressões são inseridos na tabela summary_table3.\n",
        "-A tabela summary_table3 é impressa na tela, fornecendo uma visão resumida dos resultados das regressões."
      ],
      "metadata": {
        "id": "d7u5efPpCmZc"
      }
    },
    {
      "cell_type": "code",
      "source": [
        "model4 = 'delta_lgdp ~ log_gdp_pw + np.log(csh_i) + np.log(hc) + np.log(n+delta)'\n",
        "\n",
        "reg4_1 = sm.OLS.from_formula(model4, data=pwt_converg).fit()\n",
        "reg4_2 = sm.OLS.from_formula(model4, data=pwt_converg[pwt_converg['pop'] > 1]).fit()\n",
        "reg4_3 = sm.OLS.from_formula(model4, data=OECD).fit()\n",
        "\n",
        "summary_table3 = pd.DataFrame()\n",
        "summary_table3[''] = ['ln(Y)', 'ln(sk)','ln(sh)','ln(n+g+δ)', 'Constant', 'Observations', 'Adjusted R2']\n",
        "summary_table3.set_index('', inplace=True)\n",
        "summary_table3['Non-oil'] = [f'{reg4_1.params[\"log_gdp_pw\"]:.3f}***', f'{reg4_1.params[\"np.log(csh_i)\"]:.3f}***',  f'{reg4_1.params[\"np.log(hc)\"]:.3f}***', f'{reg4_1.params[\"np.log(n + delta)\"]:.3f}***', f'{reg4_1.params[\"Intercept\"]:.3f}***', f'{int(reg4_1.nobs)}', f'{reg4_1.rsquared_adj:.3f}']\n",
        "summary_table3['Intermediate'] = [f'{reg4_2.params[\"log_gdp_pw\"]:.3f}***', f'{reg4_2.params[\"np.log(csh_i)\"]:.3f}***',f'{reg4_2.params[\"np.log(hc)\"]:.3f}***', f'{reg4_2.params[\"np.log(n + delta)\"]:.3f}***', f'{reg4_2.params[\"Intercept\"]:.3f}***', f'{int(reg4_2.nobs)}', f'{reg4_2.rsquared_adj:.3f}']\n",
        "summary_table3['OECD'] = [f'{reg4_3.params[\"log_gdp_pw\"]:.3f}***', f'{reg4_3.params[\"np.log(csh_i)\"]:.3f}***', f'{reg4_3.params[\"np.log(hc)\"]:.3f}***', f'{reg4_3.params[\"np.log(n + delta)\"]:.3f}***', f'{reg4_3.params[\"Intercept\"]:.3f}***', f'{int(reg4_3.nobs)}', f'{reg4_3.rsquared_adj:.3f}']\n",
        "\n",
        "summary_table3.loc['ln(Y)'] = summary_table3.loc['ln(Y)'] + f'  ({reg4_1.bse[\"log_gdp_pw\"]:.3f})'\n",
        "summary_table3.loc['ln(sk)'] = summary_table3.loc['ln(sk)'] + f'  ({reg4_1.bse[\"np.log(csh_i)\"]:.3f})'\n",
        "summary_table3.loc['ln(sh)'] = summary_table3.loc['ln(sh)'] + f'  ({reg4_1.bse[\"np.log(hc)\"]:.3f})'\n",
        "summary_table3.loc['ln(n+g+δ)'] = summary_table3.loc['ln(n+g+δ)'] + f'  ({reg4_1.bse[\"np.log(n + delta)\"]:.3f})'\n",
        "summary_table3.loc['Constant'] = summary_table3.loc['Constant'] + f'  ({reg4_1.bse[\"Intercept\"]:.3f})'\n",
        "\n",
        "print(summary_table3)\n"
      ],
      "metadata": {
        "colab": {
          "base_uri": "https://localhost:8080/"
        },
        "id": "5nu683NlZQl2",
        "outputId": "0836106c-5c74-47de-b27f-278eb113bed7"
      },
      "execution_count": 38,
      "outputs": [
        {
          "output_type": "stream",
          "name": "stdout",
          "text": [
            "                         Non-oil        Intermediate                OECD\n",
            "                                                                        \n",
            "ln(Y)         -0.760***  (0.134)  -0.688***  (0.134)  -0.839***  (0.134)\n",
            "ln(sk)         0.131***  (0.128)   0.017***  (0.128)  -0.092***  (0.128)\n",
            "ln(sh)         1.569***  (0.510)   1.502***  (0.510)   0.379***  (0.510)\n",
            "ln(n+g+δ)     -1.485***  (0.833)  -1.988***  (0.833)  -0.883***  (0.833)\n",
            "Constant       3.746***  (2.642)   1.506***  (2.642)   6.948***  (2.642)\n",
            "Observations                  88                  78                  28\n",
            "Adjusted R2                0.325               0.308               0.697\n"
          ]
        }
      ]
    },
    {
      "cell_type": "markdown",
      "source": [
        "- Criação do model4 que será  'delta_lgdp ~ log_gdp_pw + np.log(csh_i) + np.log(hc) + np.log(n+delta)'.\n",
        "As três regressões lineares são ajustados usando o método de Mínimos Quadrados Ordinários (OLS), sendo que:\n",
        "reg4_1 é a regressão para todo o conjunto de dados - PWT menos países petroleiros\n",
        "reg4_2 é a regressão para o subconjunto onde 'pop' é maior que 1.\n",
        "reg4_3 é a regressão para os países na lista especificada (OECD_countries)\n",
        "- Uma tabela vazia (summary_table3) é criada para armazenar os resultados das regressões. Os rótulos das linhas são definidos como ['ln(Y)', ln(sk), ln(sh), 'ln(n+g+δ)' 'Constant','Observações', 'R2 Ajustado']\n",
        "- Os coeficientes estimados, estatísticas e outras informações das regressões são inseridos na tabela summary_table4.\n",
        "-A tabela summary_table4 é impressa na tela, fornecendo uma visão resumida dos resultados das regressões."
      ],
      "metadata": {
        "id": "8ZERrHmlC_8z"
      }
    }
  ]
}